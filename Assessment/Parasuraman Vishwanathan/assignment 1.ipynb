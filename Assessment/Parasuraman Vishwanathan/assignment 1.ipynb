{
  "metadata": {
    "language_info": {
      "codemirror_mode": {
        "name": "python",
        "version": 3
      },
      "file_extension": ".py",
      "mimetype": "text/x-python",
      "name": "python",
      "nbconvert_exporter": "python",
      "pygments_lexer": "ipython3",
      "version": "3.8"
    },
    "kernelspec": {
      "name": "python",
      "display_name": "Python (Pyodide)",
      "language": "python"
    }
  },
  "nbformat_minor": 4,
  "nbformat": 4,
  "cells": [
    {
      "cell_type": "code",
      "source": "s=\"Hi there sam!\"\ns.split()\n['Hi', 'there', 'sam!']\nplanet=\"Earth\"\ndiameter=\"12742\"\nprint(\"The diameter of{} is {} kilometers.\".format(planet,diameter))\nThe diameter ofEarth is 12742 kilometers.\nd= {'k1':[1,2,3,{'trichy':['oh','man','inception',{'target':[1,2,3,'hello']}]}]}\n\nd ['k1'][3]['trichy'][3]['target'][3]\n'hello'\nimport numpy as np\nnp.zeros(10)\narray([0., 0., 0., 0., 0., 0., 0., 0., 0., 0.])\nnp.ones(10)*5\narray([5., 5., 5., 5., 5., 5., 5., 5., 5., 5.])\nprint(np.arange(20,36,2))\n[20 22 24 26 28 30 32 34]\nnp.arange(0,9).reshape((3,3))\narray([[0, 1, 2],\n       [3, 4, 5],\n       [6, 7, 8]])\na= np.array([1,2,3])\nb= np.array([4,5,6])\nnp.concatenate((a,b))\narray([1, 2, 3, 4, 5, 6])\nimport pandas as pd\ndata={'name':['tom','jerry','sam'],\n     'age':[15,12,14]}\n\npd.DataFrame(data)\nname\tage\n0\ttom\t15\n1\tjerry\t12\n2\tsam\t14\nimport  datetime\npd.to_datetime(pd.Series([\"Jan 1,2022\",\"2023-02-10\",]))\n0   2022-01-01\n1   2023-02-10\ndtype: datetime64[ns]\nlists=[[1,'aaa',22],[2,'bbb',25],[3,'ccc',24]]\npd.DataFrame(lists)\n0\t1\t2\n0\t1\taaa\t22\n1\t2\tbbb\t25\n2\t3\tccc\t24\n ",
      "metadata": {},
      "execution_count": null,
      "outputs": []
    }
  ]
}